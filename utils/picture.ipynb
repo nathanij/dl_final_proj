{
 "cells": [
  {
   "cell_type": "code",
   "execution_count": null,
   "metadata": {},
   "outputs": [],
   "source": [
    "import os\n",
    "import torch\n",
    "\n",
    "\n",
    "import sys\n",
    "sys.path.append(\"/Users/nathanieljames/Desktop/dl_final_proj/dl_final_proj\")\n",
    "from utils.cityscapes import CityscapesDataset, get_loaders"
   ]
  },
  {
   "cell_type": "markdown",
   "metadata": {},
   "source": [
    "Code for showing examples from the models"
   ]
  },
  {
   "cell_type": "code",
   "execution_count": null,
   "metadata": {},
   "outputs": [],
   "source": [
    "models_to_load = ['direct_unet']\n",
    "base = '/Users/nathanieljames/Desktop/dl_final_proj/dl_final_proj/models'\n",
    "for model in models_to_load:\n",
    "    load_path = os.path.join(base, model)\n",
    "    # load pytorch model\n",
    "    model = torch.load(load_path)\n",
    "    print(f'Testing {model}')\n",
    "\n",
    "    _, val_loader = get_loaders()\n",
    "    # step through the val_loader image by image, show the original image and the models output\n",
    "    for image, target in val_loader:\n",
    "        output = model(image)\n",
    "        image.show()\n",
    "        target.show()\n",
    "        output.show()\n",
    "        input()"
   ]
  }
 ],
 "metadata": {
  "kernelspec": {
   "display_name": "dl",
   "language": "python",
   "name": "python3"
  },
  "language_info": {
   "name": "python",
   "version": "3.11.8"
  }
 },
 "nbformat": 4,
 "nbformat_minor": 2
}
