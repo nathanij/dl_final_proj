{
 "cells": [
  {
   "cell_type": "code",
   "execution_count": 2,
   "metadata": {},
   "outputs": [],
   "source": [
    "import os\n",
    "from PIL import Image\n",
    "import json"
   ]
  },
  {
   "cell_type": "markdown",
   "metadata": {},
   "source": [
    "For each threefold foggy image calculate the corresponding SAM map number and save in a dictionary"
   ]
  },
  {
   "cell_type": "code",
   "execution_count": 21,
   "metadata": {},
   "outputs": [
    {
     "name": "stdout",
     "output_type": "stream",
     "text": [
      "/Users/nathanieljames/Desktop/dl_final_proj/conversion_dicts/train.json\n",
      "/Users/nathanieljames/Desktop/dl_final_proj/conversion_dicts/val.json\n"
     ]
    }
   ],
   "source": [
    "sets = ['train', 'val']\n",
    "for s in sets:\n",
    "    conversions = dict()\n",
    "    fog_path = os.path.join('/Users/nathanieljames/Desktop/dl_final_proj/cityscape_no_val/fog/leftImg8bit_foggyDBF', s)\n",
    "    count = 1\n",
    "    level = 0\n",
    "    for city in sorted(os.listdir(fog_path)):\n",
    "        #continue if the city is not a directory\n",
    "        city_path = os.path.join(fog_path, city)\n",
    "        if not os.path.isdir(city_path):\n",
    "            continue\n",
    "        for img in sorted(os.listdir(city_path)):\n",
    "            img_path = os.path.join(city_path, img)\n",
    "            conversions[img_path] = count\n",
    "            level += 1\n",
    "            if level == 3:\n",
    "                count += 1\n",
    "                level = 0\n",
    "    save_path = os.path.join('/Users/nathanieljames/Desktop/dl_final_proj/conversion_dicts', f'{s}.json')\n",
    "    print(save_path)\n",
    "    with open(save_path, \"w\") as f:\n",
    "        json.dump(conversions, f)"
   ]
  },
  {
   "cell_type": "markdown",
   "metadata": {},
   "source": [
    "Load the dictionaries, and combine foggy image with SAM map"
   ]
  },
  {
   "cell_type": "code",
   "execution_count": 7,
   "metadata": {},
   "outputs": [],
   "source": [
    "sets = ['train', 'val']\n",
    "for s in sets:\n",
    "    dict_path = os.path.join('/Users/nathanieljames/Desktop/dl_final_proj/conversion_dicts', f'{s}.json')\n",
    "    sam_base = '/Users/nathanieljames/Desktop/dl_final_proj/cityscapes_data'\n",
    "    write_base = '/Users/nathanieljames/Desktop/dl_final_proj/target_fog'\n",
    "    comb_path = os.path.join(write_base, 'combined', s)\n",
    "    with open(dict_path, \"r\") as f:\n",
    "        conv_dict = json.load(f)\n",
    "    for fog_path in conv_dict:\n",
    "        level = int(fog_path.split('.')[1])\n",
    "        level_path = os.path.join(write_base, f'{level}', s)\n",
    "        sam_target = conv_dict[fog_path]\n",
    "        sam_path = os.path.join(sam_base, f'{s}', f'{sam_target}.jpg')\n",
    "        img1 = Image.open(fog_path)\n",
    "        img2 = Image.open(sam_path)\n",
    "        img1 = img1.resize((256, 256))\n",
    "        # concatenate images\n",
    "        dst = Image.new('RGB', (512, 256))\n",
    "        dst.paste(img2, (0, 0))\n",
    "        dst.paste(img1, (0, 0))\n",
    "        wp1 = os.path.join(comb_path, f'{sam_target}-{level}.jpg')\n",
    "        wp2 = os.path.join(level_path, f'{sam_target}.jpg')\n",
    "        dst.save(wp1)\n",
    "        dst.save(wp2)"
   ]
  },
  {
   "cell_type": "markdown",
   "metadata": {},
   "source": [
    "Rename combined dataset to allow indexing"
   ]
  },
  {
   "cell_type": "code",
   "execution_count": 9,
   "metadata": {},
   "outputs": [],
   "source": [
    "sets = ['train', 'val']\n",
    "write_base = '/Users/nathanieljames/Desktop/dl_final_proj/target_fog'\n",
    "for s in sets:\n",
    "    comb_path = os.path.join(write_base, 'combined', s)\n",
    "    tmp_path = os.path.join(comb_path, 'temp')\n",
    "    count = 1\n",
    "    for img in os.listdir(comb_path):\n",
    "        #move image to tmp folder and rename it to {count}.png\n",
    "        if img == 'temp':\n",
    "            continue\n",
    "        img_path = os.path.join(comb_path, img)\n",
    "        tmp_img_path = os.path.join(tmp_path, f'{count}.png')\n",
    "        os.rename(img_path, tmp_img_path)\n",
    "        count += 1"
   ]
  },
  {
   "cell_type": "code",
   "execution_count": 10,
   "metadata": {},
   "outputs": [],
   "source": [
    "sets = ['train', 'val']\n",
    "for s in sets:\n",
    "    comb_path = os.path.join(write_base, 'combined', s)\n",
    "    tmp_path = os.path.join(comb_path, 'temp')\n",
    "    for img in os.listdir(tmp_path):\n",
    "        img_path = os.path.join(tmp_path, img)\n",
    "        os.rename(img_path, os.path.join(comb_path, img))"
   ]
  },
  {
   "cell_type": "code",
   "execution_count": 23,
   "metadata": {},
   "outputs": [
    {
     "name": "stdout",
     "output_type": "stream",
     "text": [
      "/Users/nathanieljames/Desktop/dl_final_proj/target_fog/5/val/501.jpg\n",
      "501\n"
     ]
    }
   ],
   "source": [
    "sets = ['val']\n",
    "write_base = '/Users/nathanieljames/Desktop/dl_final_proj/target_fog'\n",
    "for s in sets:\n",
    "    comb_path = os.path.join(write_base, '5', s)\n",
    "    for i in range(1, 8927):\n",
    "        img_path = os.path.join(comb_path, f'{i}.jpg')\n",
    "        if i == 1339:\n",
    "            print(os.path.exists(img_path))\n",
    "        if not os.path.exists(img_path):\n",
    "            print(img_path)\n",
    "            print(i)\n",
    "            break\n"
   ]
  }
 ],
 "metadata": {
  "kernelspec": {
   "display_name": "dl",
   "language": "python",
   "name": "python3"
  },
  "language_info": {
   "codemirror_mode": {
    "name": "ipython",
    "version": 3
   },
   "file_extension": ".py",
   "mimetype": "text/x-python",
   "name": "python",
   "nbconvert_exporter": "python",
   "pygments_lexer": "ipython3",
   "version": "3.11.8"
  }
 },
 "nbformat": 4,
 "nbformat_minor": 2
}
