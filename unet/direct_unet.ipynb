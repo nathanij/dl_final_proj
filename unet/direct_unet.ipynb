{
  "cells": [
    {
      "cell_type": "markdown",
      "metadata": {
        "id": "v3dun9PuWne1"
      },
      "source": [
        "Use cityscapes dataset, trains directly on damaged images."
      ]
    },
    {
      "cell_type": "markdown",
      "metadata": {
        "id": "fkgOXuCYeqdh"
      },
      "source": [
        "Beginning with U-net architecture, will explore other as well."
      ]
    },
    {
      "cell_type": "code",
      "execution_count": null,
      "metadata": {
        "id": "0BTt2OmoWrzX"
      },
      "outputs": [],
      "source": [
        "import os\n",
        "from PIL import Image\n",
        "import numpy as np\n",
        "from torch.utils.data import Dataset, DataLoader\n",
        "import matplotlib.pyplot as plt\n",
        "import torch\n",
        "import torchvision\n",
        "from glob import glob\n",
        "import torch.nn as nn\n",
        "from tqdm import tqdm\n",
        "import torch.nn.functional as F\n",
        "import torchvision.transforms as transform\n",
        "from torch.utils.data import DataLoader,Dataset\n",
        "\n",
        "#dataset: https://www.kaggle.com/datasets/dansbecker/cityscapes-image-pairs/data\n",
        "\n",
        "class CityscapesDataset(Dataset):\n",
        "    def __init__(self, image_dir, cut_half = True, transform = None):\n",
        "        self.image_dir = image_dir\n",
        "        self.imgs = os.listdir(image_dir)\n",
        "\n",
        "        self.cut_half = cut_half\n",
        "        self.transforms = transform\n",
        "\n",
        "    def __len__(self):\n",
        "        return len(self.imgs)\n",
        "\n",
        "    def __getitem__(self, idx):\n",
        "        img_mask = Image.open(os.path.join(self.image_dir, self.imgs[idx]))\n",
        "        if self.cut_half:\n",
        "            x_width, y_height = img_mask.size\n",
        "            split = x_width / 2\n",
        "\n",
        "            img = img_mask.crop((0, 0, split, y_height))\n",
        "\n",
        "            mask = img_mask.crop((split, 0, split + split, y_height))\n",
        "\n",
        "            if self.transforms:\n",
        "                img = self.transforms(img)\n",
        "                mask = self.transforms(mask)\n",
        "\n",
        "            return img, mask\n",
        "\n",
        "        return img_mask\n"
      ]
    },
    {
      "cell_type": "code",
      "execution_count": 3,
      "metadata": {
        "colab": {
          "base_uri": "https://localhost:8080/"
        },
        "id": "GY-amT9CIt7L",
        "outputId": "72d8c95b-f9cc-43c3-9355-0606f54634b8"
      },
      "outputs": [
        {
          "name": "stdout",
          "output_type": "stream",
          "text": [
            "2975 93 500\n"
          ]
        }
      ],
      "source": [
        "transform_init = transform.Compose([\n",
        "    transform.ToTensor()\n",
        "])\n",
        "\n",
        "# NEED TO SWITCH THIS\n",
        "# SO THAT THEY ARE ALL EITHER SNOWY, RAINY, etc.\n",
        "\n",
        "dataset = CityscapesDataset(image_dir='/Users/nathanieljames/Desktop/direct/cityscapes_data/train', cut_half=True, transform=transform_init)\n",
        "val_dataset = CityscapesDataset(image_dir='/Users/nathanieljames/Desktop/direct/cityscapes_data/val', cut_half=True, transform=transform_init)\n",
        "dataloader = DataLoader(dataset, batch_size=32, shuffle=True)\n",
        "valloader = DataLoader(val_dataset)\n",
        "print(len(dataset), len(dataloader), len(valloader))"
      ]
    },
    {
      "cell_type": "code",
      "execution_count": 4,
      "metadata": {
        "colab": {
          "base_uri": "https://localhost:8080/"
        },
        "id": "Pxrb_v9EhpgJ",
        "outputId": "0f7eaf66-1e5e-4a8e-c328-c22aab7ba076"
      },
      "outputs": [],
      "source": [
        "dtype = torch.float\n",
        "device = torch.device(\"mps\")"
      ]
    },
    {
      "cell_type": "code",
      "execution_count": 5,
      "metadata": {
        "id": "QkxAHz4yRxkF"
      },
      "outputs": [],
      "source": [
        "class Convblock(nn.Module):\n",
        "\n",
        "      def __init__(self,input_channel,output_channel,kernel=3,stride=1,padding=1):\n",
        "\n",
        "        super().__init__()\n",
        "        self.convblock = nn.Sequential(\n",
        "            nn.Conv2d(input_channel,output_channel,kernel,stride,padding),\n",
        "            nn.BatchNorm2d(output_channel),\n",
        "            nn.ReLU(inplace=True),\n",
        "            nn.Conv2d(output_channel,output_channel,kernel),\n",
        "            nn.ReLU(inplace=True),\n",
        "        )\n",
        "\n",
        "      def forward(self,x):\n",
        "        x = self.convblock(x)\n",
        "        return x"
      ]
    },
    {
      "cell_type": "code",
      "execution_count": 6,
      "metadata": {
        "id": "1A-0afzjRyVy"
      },
      "outputs": [],
      "source": [
        "class DirectUNet(nn.Module):\n",
        "\n",
        "    def __init__(self,input_channel,retain=True):\n",
        "\n",
        "        super().__init__()\n",
        "\n",
        "        self.conv1 = Convblock(input_channel,32)\n",
        "        self.conv2 = Convblock(32,64)\n",
        "        self.conv3 = Convblock(64,128)\n",
        "        # next 4 lines are bottom layer\n",
        "        #self.conv4 = Convblock(128,256)\n",
        "        #self.neck = nn.Conv2d(256,512,3,1)\n",
        "        #self.upconv4 = nn.ConvTranspose2d(512,256,3,2,0,1)\n",
        "        #self.dconv4 = Convblock(512,256)\n",
        "        # begin replace here\n",
        "        self.neck = nn.Conv2d(128, 256, 3, 1)\n",
        "        self.upconv3 = nn.ConvTranspose2d(256,128,3,2,0,1)\n",
        "        self.dconv3 = Convblock(256,128)\n",
        "        self.upconv2 = nn.ConvTranspose2d(128,64,3,2,0,1)\n",
        "        self.dconv2 = Convblock(128,64)\n",
        "        self.upconv1 = nn.ConvTranspose2d(64,32,3,2,0,1)\n",
        "        self.dconv1 = Convblock(64,32)\n",
        "        self.out = nn.Conv2d(32,3,1,1)\n",
        "        self.retain = retain\n",
        "\n",
        "    def forward(self,x):\n",
        "\n",
        "        # Encoder Network\n",
        "\n",
        "        # Conv down 1\n",
        "        conv1 = self.conv1(x)\n",
        "        pool1 = F.max_pool2d(conv1,kernel_size=2,stride=2)\n",
        "        # Conv down 2\n",
        "        conv2 = self.conv2(pool1)\n",
        "        pool2 = F.max_pool2d(conv2,kernel_size=2,stride=2)\n",
        "        # Conv down 3\n",
        "        conv3 = self.conv3(pool2)\n",
        "        pool3 = F.max_pool2d(conv3,kernel_size=2,stride=2)\n",
        "        # Conv down 4 (removed)\n",
        "        # conv4 = self.conv4(pool3)\n",
        "        # pool4 = F.max_pool2d(conv4,kernel_size=2,stride=2)\n",
        "\n",
        "        # BottelNeck\n",
        "        neck = self.neck(pool3) #cb to pool 4 if layer 4 left in\n",
        "\n",
        "        # Decoder Network\n",
        "\n",
        "        # Upconv 1 again removed\n",
        "        # upconv4 = self.upconv4(neck)\n",
        "        # croped = self.crop(conv4,upconv4)\n",
        "        # # Making the skip connection 1\n",
        "        # dconv4 = self.dconv4(torch.cat([upconv4,croped],1))\n",
        "        # Upconv 2\n",
        "        upconv3 = self.upconv3(neck) # replace to dconv 4 if unskip\n",
        "        croped = self.crop(conv3,upconv3)\n",
        "        # Making the skip connection 2\n",
        "        dconv3 = self.dconv3(torch.cat([upconv3,croped],1))\n",
        "        # Upconv 3\n",
        "        upconv2 = self.upconv2(dconv3)\n",
        "        croped = self.crop(conv2,upconv2)\n",
        "        # Making the skip connection 3\n",
        "        dconv2 = self.dconv2(torch.cat([upconv2,croped],1))\n",
        "        # Upconv 4\n",
        "        upconv1 = self.upconv1(dconv2)\n",
        "        croped = self.crop(conv1,upconv1)\n",
        "        # Making the skip connection 4\n",
        "        dconv1 = self.dconv1(torch.cat([upconv1,croped],1))\n",
        "        # Output Layer\n",
        "        out = self.out(dconv1)\n",
        "\n",
        "        if self.retain == True:\n",
        "            out = F.interpolate(out,list(x.shape)[2:])\n",
        "\n",
        "        return out\n",
        "\n",
        "    def crop(self,input_tensor,target_tensor):\n",
        "        # Crops for border kernels\n",
        "        _,_,H,W = target_tensor.shape\n",
        "        return transform.CenterCrop([H,W])(input_tensor)"
      ]
    },
    {
      "cell_type": "code",
      "execution_count": 9,
      "metadata": {
        "colab": {
          "base_uri": "https://localhost:8080/"
        },
        "id": "yrhstbVHR3gN",
        "outputId": "f2ad9ba1-1b11-411c-bf3c-4784025a15d5"
      },
      "outputs": [
        {
          "name": "stdout",
          "output_type": "stream",
          "text": [
            "----------------------------------------------------------------\n",
            "        Layer (type)               Output Shape         Param #\n",
            "================================================================\n",
            "            Conv2d-1         [-1, 32, 256, 256]             896\n",
            "       BatchNorm2d-2         [-1, 32, 256, 256]              64\n",
            "              ReLU-3         [-1, 32, 256, 256]               0\n",
            "            Conv2d-4         [-1, 32, 254, 254]           9,248\n",
            "              ReLU-5         [-1, 32, 254, 254]               0\n",
            "         Convblock-6         [-1, 32, 254, 254]               0\n",
            "            Conv2d-7         [-1, 64, 127, 127]          18,496\n",
            "       BatchNorm2d-8         [-1, 64, 127, 127]             128\n",
            "              ReLU-9         [-1, 64, 127, 127]               0\n",
            "           Conv2d-10         [-1, 64, 125, 125]          36,928\n",
            "             ReLU-11         [-1, 64, 125, 125]               0\n",
            "        Convblock-12         [-1, 64, 125, 125]               0\n",
            "           Conv2d-13          [-1, 128, 62, 62]          73,856\n",
            "      BatchNorm2d-14          [-1, 128, 62, 62]             256\n",
            "             ReLU-15          [-1, 128, 62, 62]               0\n",
            "           Conv2d-16          [-1, 128, 60, 60]         147,584\n",
            "             ReLU-17          [-1, 128, 60, 60]               0\n",
            "        Convblock-18          [-1, 128, 60, 60]               0\n",
            "           Conv2d-19          [-1, 256, 28, 28]         295,168\n",
            "  ConvTranspose2d-20          [-1, 128, 58, 58]         295,040\n",
            "           Conv2d-21          [-1, 128, 58, 58]         295,040\n",
            "      BatchNorm2d-22          [-1, 128, 58, 58]             256\n",
            "             ReLU-23          [-1, 128, 58, 58]               0\n",
            "           Conv2d-24          [-1, 128, 56, 56]         147,584\n",
            "             ReLU-25          [-1, 128, 56, 56]               0\n",
            "        Convblock-26          [-1, 128, 56, 56]               0\n",
            "  ConvTranspose2d-27         [-1, 64, 114, 114]          73,792\n",
            "           Conv2d-28         [-1, 64, 114, 114]          73,792\n",
            "      BatchNorm2d-29         [-1, 64, 114, 114]             128\n",
            "             ReLU-30         [-1, 64, 114, 114]               0\n",
            "           Conv2d-31         [-1, 64, 112, 112]          36,928\n",
            "             ReLU-32         [-1, 64, 112, 112]               0\n",
            "        Convblock-33         [-1, 64, 112, 112]               0\n",
            "  ConvTranspose2d-34         [-1, 32, 226, 226]          18,464\n",
            "           Conv2d-35         [-1, 32, 226, 226]          18,464\n",
            "      BatchNorm2d-36         [-1, 32, 226, 226]              64\n",
            "             ReLU-37         [-1, 32, 226, 226]               0\n",
            "           Conv2d-38         [-1, 32, 224, 224]           9,248\n",
            "             ReLU-39         [-1, 32, 224, 224]               0\n",
            "        Convblock-40         [-1, 32, 224, 224]               0\n",
            "           Conv2d-41          [-1, 3, 224, 224]              99\n",
            "================================================================\n",
            "Total params: 1,551,523\n",
            "Trainable params: 1,551,523\n",
            "Non-trainable params: 0\n",
            "----------------------------------------------------------------\n",
            "Input size (MB): 0.75\n",
            "Forward/backward pass size (MB): 318.97\n",
            "Params size (MB): 5.92\n",
            "Estimated Total Size (MB): 325.64\n",
            "----------------------------------------------------------------\n"
          ]
        }
      ],
      "source": [
        "model = DirectUNet(3).float()\n",
        "\n",
        "from torchsummary import summary\n",
        "summary(model, (3,256,256))\n",
        "model = model.to(device)\n",
        "\n",
        "epochs = 5\n",
        "\n",
        "loss_func = nn.MSELoss()\n",
        "optimizer = torch.optim.Adam(model.parameters(), lr=0.01)\n",
        "\n",
        "train_acc = []\n",
        "val_acc = []\n",
        "train_loss = []\n",
        "val_loss = []"
      ]
    },
    {
      "cell_type": "code",
      "execution_count": 10,
      "metadata": {
        "colab": {
          "base_uri": "https://localhost:8080/",
          "height": 391
        },
        "id": "G1qMztyhR69Z",
        "outputId": "41eb80d8-e130-468a-8297-2d919f62a0e6"
      },
      "outputs": [
        {
          "name": "stderr",
          "output_type": "stream",
          "text": [
            "100%|██████████| 93/93 [1:24:23<00:00, 54.45s/it]\n",
            "100%|██████████| 500/500 [00:19<00:00, 25.79it/s]\n"
          ]
        },
        {
          "name": "stdout",
          "output_type": "stream",
          "text": [
            "epoch : 0 ,train loss : 0.076130265309926 ,valid loss : 0.04493915801867843 \n"
          ]
        },
        {
          "name": "stderr",
          "output_type": "stream",
          "text": [
            "100%|██████████| 93/93 [3:19:26<00:00, 128.67s/it]  \n",
            "100%|██████████| 500/500 [02:30<00:00,  3.33it/s]\n"
          ]
        },
        {
          "name": "stdout",
          "output_type": "stream",
          "text": [
            "epoch : 1 ,train loss : 0.04552027643207581 ,valid loss : 0.04342434840649367 \n"
          ]
        },
        {
          "name": "stderr",
          "output_type": "stream",
          "text": [
            "100%|██████████| 93/93 [2:40:01<00:00, 103.24s/it]  \n",
            "100%|██████████| 500/500 [00:13<00:00, 36.29it/s]\n"
          ]
        },
        {
          "name": "stdout",
          "output_type": "stream",
          "text": [
            "epoch : 2 ,train loss : 0.040475767426272874 ,valid loss : 0.03571418998017907 \n"
          ]
        },
        {
          "name": "stderr",
          "output_type": "stream",
          "text": [
            "100%|██████████| 93/93 [2:36:51<00:00, 101.20s/it]  \n",
            "100%|██████████| 500/500 [00:11<00:00, 43.24it/s]\n"
          ]
        },
        {
          "name": "stdout",
          "output_type": "stream",
          "text": [
            "epoch : 3 ,train loss : 0.035446759393458725 ,valid loss : 0.034184001591056584 \n"
          ]
        },
        {
          "name": "stderr",
          "output_type": "stream",
          "text": [
            "100%|██████████| 93/93 [2:23:38<00:00, 92.67s/it]   \n",
            "100%|██████████| 500/500 [00:15<00:00, 32.31it/s]\n"
          ]
        },
        {
          "name": "stdout",
          "output_type": "stream",
          "text": [
            "epoch : 4 ,train loss : 0.03387145539845831 ,valid loss : 0.03324828418344259 \n"
          ]
        }
      ],
      "source": [
        "for i in range(epochs):\n",
        "\n",
        "    trainloss = 0\n",
        "    valloss = 0\n",
        "\n",
        "    for img,label in tqdm(dataloader):\n",
        "        #print(\"new image\")\n",
        "        optimizer.zero_grad()\n",
        "        img = img.to(device)\n",
        "        label = label.to(device)\n",
        "        output = model(img)\n",
        "        loss = loss_func(output,label)\n",
        "        loss.backward()\n",
        "        optimizer.step()\n",
        "        trainloss+=loss.item()\n",
        "\n",
        "    train_loss.append(trainloss/len(dataloader))\n",
        "\n",
        "    for img,label in tqdm(valloader):\n",
        "        img = img.to(device)\n",
        "        label = label.to(device)\n",
        "        output = model(img)\n",
        "        loss = loss_func(output,label)\n",
        "        valloss+=loss.item()\n",
        "\n",
        "    val_loss.append(valloss/len(valloader))\n",
        "\n",
        "    print(\"epoch : {} ,train loss : {} ,valid loss : {} \".format(i,train_loss[-1],val_loss[-1]))"
      ]
    },
    {
      "cell_type": "code",
      "execution_count": 11,
      "metadata": {},
      "outputs": [],
      "source": [
        "#save model\n",
        "torch.save(model.state_dict(), '/Users/nathanieljames/Desktop/direct/models/direct_unet.pth')"
      ]
    }
  ],
  "metadata": {
    "accelerator": "GPU",
    "colab": {
      "gpuType": "T4",
      "provenance": []
    },
    "kernelspec": {
      "display_name": "Python 3",
      "name": "python3"
    },
    "language_info": {
      "codemirror_mode": {
        "name": "ipython",
        "version": 3
      },
      "file_extension": ".py",
      "mimetype": "text/x-python",
      "name": "python",
      "nbconvert_exporter": "python",
      "pygments_lexer": "ipython3",
      "version": "3.11.8"
    }
  },
  "nbformat": 4,
  "nbformat_minor": 0
}
